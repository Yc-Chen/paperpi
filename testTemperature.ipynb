{
 "cells": [
  {
   "cell_type": "code",
   "execution_count": 83,
   "metadata": {},
   "outputs": [],
   "source": [
    "import config\n",
    "from PIL import Image\n",
    "from PIL import ImageDraw\n",
    "from PIL import ImageFont\n",
    "image = Image.new('L', (config.EPD_WIDTH, config.EPD_HEIGHT), 255)    # 1: clear the frame\n",
    "draw = ImageDraw.Draw(image)\n",
    "# draw the horizontal lines\n",
    "draw.line((0, 0, 640, 0), fill=0, width=2)\n",
    "draw.line((0, 128, 640, 128), fill=0, width=2)\n",
    "draw.line((0, 256, 640, 256), fill=0, width=2)\n",
    "draw.line((0, 382, 640, 382), fill=0, width=2)\n",
    "# draw the vertical lines\n",
    "draw.line((0, 0, 0, 384), fill=0, width=2)\n",
    "draw.line((160, 0, 160, 384), fill=0, width=2)\n",
    "draw.line((320, 0, 320, 384), fill=0, width=2)\n",
    "draw.line((480, 0, 480, 384), fill=0, width=2)\n",
    "draw.line((638, 0, 638, 384), fill=0, width=2)"
   ]
  },
  {
   "cell_type": "code",
   "execution_count": 62,
   "metadata": {},
   "outputs": [
    {
     "data": {
      "image/png": "[encoded data removed]",
      "text/plain": [
       "<PIL.Image.Image image mode=L size=640x384 at 0x70A13890>"
      ]
     },
     "execution_count": 62,
     "metadata": {},
     "output_type": "execute_result"
    }
   ],
   "source": [
    "image"
   ]
  },
  {
   "cell_type": "code",
   "execution_count": 84,
   "metadata": {},
   "outputs": [],
   "source": [
    "font = ImageFont.truetype('./resources/Marker Felt.ttf', 20)\n",
    "draw.text((260,10), \"25°/20°\", font=font, fill=0)"
   ]
  },
  {
   "cell_type": "code",
   "execution_count": 71,
   "metadata": {},
   "outputs": [],
   "source": [
    "font = ImageFont.truetype('./resources/Marker Felt.ttf', 50)\n",
    "draw.text((205,30), \"21°\", font=font, fill=0)"
   ]
  },
  {
   "cell_type": "code",
   "execution_count": 72,
   "metadata": {},
   "outputs": [],
   "source": [
    "font = ImageFont.truetype('./resources/Marker Felt.ttf', 20)\n",
    "draw.text((190,100), \"tomorrow 5°/-2°\", font=font, fill=0)"
   ]
  },
  {
   "cell_type": "code",
   "execution_count": 85,
   "metadata": {},
   "outputs": [
    {
     "data": {
      "image/png": "[encoded data removed]",
      "text/plain": [
       "<PIL.Image.Image image mode=L size=640x384 at 0x709A1030>"
      ]
     },
     "execution_count": 85,
     "metadata": {},
     "output_type": "execute_result"
    }
   ],
   "source": [
    "image"
   ]
  },
  {
   "cell_type": "code",
   "execution_count": 74,
   "metadata": {},
   "outputs": [],
   "source": [
    "import epd\n",
    "epd.show(image)"
   ]
  },
  {
   "cell_type": "code",
   "execution_count": 86,
   "metadata": {},
   "outputs": [],
   "source": [
    "tsize = draw.textsize(\"25°/20°\", font=font)"
   ]
  },
  {
   "cell_type": "code",
   "execution_count": 87,
   "metadata": {},
   "outputs": [
    {
     "data": {
      "text/plain": [
       "(62, 24)"
      ]
     },
     "execution_count": 87,
     "metadata": {},
     "output_type": "execute_result"
    }
   ],
   "source": [
    "tsize"
   ]
  },
  {
   "cell_type": "code",
   "execution_count": null,
   "metadata": {},
   "outputs": [],
   "source": []
  }
 ],
 "metadata": {
  "kernelspec": {
   "display_name": "Python 3",
   "language": "python",
   "name": "python3"
  },
  "language_info": {
   "codemirror_mode": {
    "name": "ipython",
    "version": 3
   },
   "file_extension": ".py",
   "mimetype": "text/x-python",
   "name": "python",
   "nbconvert_exporter": "python",
   "pygments_lexer": "ipython3",
   "version": "3.5.3"
  }
 },
 "nbformat": 4,
 "nbformat_minor": 2
}
